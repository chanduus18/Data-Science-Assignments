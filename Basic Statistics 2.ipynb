{
 "cells": [
  {
   "cell_type": "markdown",
   "id": "baa92641",
   "metadata": {},
   "source": [
    "# Estimation And Confidence Intervals"
   ]
  },
  {
   "cell_type": "markdown",
   "id": "d74732ee",
   "metadata": {},
   "source": [
    "## Background\n",
    "### In quality control processes, especially when dealing with high-value items, destructive sampling is a necessary but costly method to ensure product quality. The test to determine whether an item meets the quality standards destroys the item, leading to the requirement of small sample sizes due to cost constraints.\n",
    "## Scenario\n",
    "### A manufacturer of print-heads for personal computers is interested in estimating the mean durability of their print-heads in terms of the number of characters printed before failure. To assess this, the manufacturer conducts a study on a small sample of print-heads due to the destructive nature of the testing process.\n",
    "## Data\n",
    "### A total of 15 print-heads were randomly selected and tested until failure. The durability of each print-head (in millions of characters) was recorded as follows:\n",
    "### 1.13, 1.55, 1.43, 0.92, 1.25, 1.36, 1.32, 0.85, 1.07, 1.48, 1.20, 1.33, 1.18, 1.22, 1.29\n"
   ]
  },
  {
   "cell_type": "markdown",
   "id": "6f892c20",
   "metadata": {},
   "source": [
    "### Assignment Tasks\n",
    "### a. Build 99% Confidence Interval Using Sample Standard Deviation\n",
    "#### Assuming the sample is representative of the population, construct a 99% confidence interval for the mean number of characters printed before the print-head fails using the sample standard deviation. Explain the steps you take and the rationale behind using the t-distribution for this task.\n"
   ]
  },
  {
   "cell_type": "code",
   "execution_count": 1,
   "id": "0e1591cf",
   "metadata": {},
   "outputs": [
    {
     "data": {
      "text/plain": [
       "(1.2386666666666666,\n",
       " 0.19316412956959936,\n",
       " 0.1484693282152996,\n",
       " (1.090197338451367, 1.3871359948819662))"
      ]
     },
     "execution_count": 1,
     "metadata": {},
     "output_type": "execute_result"
    }
   ],
   "source": [
    "import numpy as np\n",
    "import scipy.stats as stats\n",
    "\n",
    "data = np.array([1.13, 1.55, 1.43, 0.92, 1.25, 1.36, 1.32, 0.85, 1.07, 1.48, 1.20, 1.33, 1.18, 1.22, 1.29])\n",
    "\n",
    "n = len(data)  \n",
    "mean_x = np.mean(data)  \n",
    "std_x = np.std(data, ddof=1) \n",
    "\n",
    "df = n - 1\n",
    "\n",
    "t_critical = stats.t.ppf(0.995, df)\n",
    "\n",
    "ME = t_critical * (std_x / np.sqrt(n))\n",
    "\n",
    "CI_lower = mean_x - ME\n",
    "CI_upper = mean_x + ME\n",
    "\n",
    "(mean_x, std_x, ME, (CI_lower, CI_upper))\n"
   ]
  },
  {
   "cell_type": "markdown",
   "id": "e4a2f913",
   "metadata": {},
   "source": [
    "## Final Results\n",
    "### Sample Mean = 1.239 million characters\n",
    "### Sample Standard Deviation = 0.193 million characters\n",
    "### Margin of Error (ME) = 0.148 million characters\n",
    "### 99% Confidence Interval = (1.090, 1.387) million characters"
   ]
  },
  {
   "cell_type": "code",
   "execution_count": null,
   "id": "dbdcfbbd",
   "metadata": {},
   "outputs": [],
   "source": []
  },
  {
   "cell_type": "markdown",
   "id": "53aa95d3",
   "metadata": {},
   "source": [
    "### b. Build 99% Confidence Interval Using Known Population Standard Deviation\n",
    "#### If it were known that the population standard deviation is 0.2 million characters, construct a 99% confidence interval for the mean number of characters printed before failure."
   ]
  },
  {
   "cell_type": "code",
   "execution_count": 2,
   "id": "11b8a28b",
   "metadata": {},
   "outputs": [
    {
     "data": {
      "text/plain": [
       "(0.13301525327090588, (1.1056514133957607, 1.3716819199375725))"
      ]
     },
     "execution_count": 2,
     "metadata": {},
     "output_type": "execute_result"
    }
   ],
   "source": [
    "sigma = 0.2\n",
    "\n",
    "z_critical = stats.norm.ppf(0.995)\n",
    "\n",
    "ME_known_sigma = z_critical * (sigma / np.sqrt(n))\n",
    "\n",
    "CI_lower_known_sigma = mean_x - ME_known_sigma\n",
    "CI_upper_known_sigma = mean_x + ME_known_sigma\n",
    "\n",
    "(ME_known_sigma, (CI_lower_known_sigma, CI_upper_known_sigma))\n"
   ]
  },
  {
   "cell_type": "markdown",
   "id": "d5017a3f",
   "metadata": {},
   "source": [
    "## Final Results\n",
    "### Margin of Error (ME) = 0.133 million characters\n",
    "### 99% Confidence Interval = (1.106, 1.372) million characters"
   ]
  },
  {
   "cell_type": "code",
   "execution_count": null,
   "id": "3d854c4f",
   "metadata": {},
   "outputs": [],
   "source": []
  }
 ],
 "metadata": {
  "kernelspec": {
   "display_name": "Python 3 (ipykernel)",
   "language": "python",
   "name": "python3"
  },
  "language_info": {
   "codemirror_mode": {
    "name": "ipython",
    "version": 3
   },
   "file_extension": ".py",
   "mimetype": "text/x-python",
   "name": "python",
   "nbconvert_exporter": "python",
   "pygments_lexer": "ipython3",
   "version": "3.11.5"
  }
 },
 "nbformat": 4,
 "nbformat_minor": 5
}
