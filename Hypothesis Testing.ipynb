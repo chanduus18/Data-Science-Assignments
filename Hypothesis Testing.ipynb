{
 "cells": [
  {
   "cell_type": "markdown",
   "id": "f84d385f",
   "metadata": {},
   "source": [
    "## HYPOTHESIS TESTING"
   ]
  },
  {
   "cell_type": "markdown",
   "id": "d5d0e169",
   "metadata": {},
   "source": [
    "### Background:\n",
    "#### Bombay hospitality Ltd. operates a franchise model for producing exotic Norwegian dinners throughout New England. The operating cost for a franchise in a week (W) is given by the equation W = $1,000 + $5X, where X represents the number of units produced in a week. Recent feedback from restaurant owners suggests that this cost model may no longer be accurate, as their observed weekly operating costs are higher.\n",
    "### Objective:\n",
    "#### To investigate the restaurant owners' claim about the increase in weekly operating costs using hypothesis testing.\n",
    "### Data Provided:\n",
    "#### • The theoretical weekly operating cost model: W = $1,000 + $5X\n",
    "#### • Sample of 25 restaurants with a mean weekly cost of Rs. 3,050\n",
    "#### • Number of units produced in a week (X) follows a normal distribution with a mean (μ) of 600 units and a standard deviation (σ) of 25 units\n"
   ]
  },
  {
   "cell_type": "markdown",
   "id": "98f84094",
   "metadata": {},
   "source": [
    "### Assignment Tasks:\n",
    "## 1. State the Hypotheses statement:\n"
   ]
  },
  {
   "cell_type": "markdown",
   "id": "620d7f35",
   "metadata": {},
   "source": [
    "#### A hypothesis statement is a clear and testable prediction about the relationship between variables in a study. To formulate a hypothesis, consider the research question or problem statement."
   ]
  },
  {
   "cell_type": "code",
   "execution_count": null,
   "id": "7053a6a8",
   "metadata": {},
   "outputs": [],
   "source": []
  },
  {
   "cell_type": "markdown",
   "id": "ab8294f4",
   "metadata": {},
   "source": [
    "## 2. Calculate the Test Statistic:\n",
    "### Use the following formula to calculate the test statistic (t):\n",
    "### where:\n",
    "### •\tˉxˉ = sample mean weekly cost (Rs. 3,050)\n",
    "### •\tμ = theoretical mean weekly cost according to the cost model (W = $1,000 + $5X for X = 600 units)\n",
    "### •\tσ = 5*25 units\n",
    "### •\tn = sample size (25 restaurants)\n"
   ]
  },
  {
   "cell_type": "code",
   "execution_count": 2,
   "id": "27df2261",
   "metadata": {},
   "outputs": [
    {
     "data": {
      "text/plain": [
       "-38.0"
      ]
     },
     "execution_count": 2,
     "metadata": {},
     "output_type": "execute_result"
    }
   ],
   "source": [
    "import math\n",
    "\n",
    "x_bar = 3050  \n",
    "mu = 4000  \n",
    "sigma = 5 * 25 \n",
    "n = 25 \n",
    "\n",
    "SE = sigma / math.sqrt(n)\n",
    "\n",
    "t_statistic = (x_bar - mu) / SE\n",
    "t_statistic\n"
   ]
  },
  {
   "cell_type": "code",
   "execution_count": null,
   "id": "97412e28",
   "metadata": {},
   "outputs": [],
   "source": []
  },
  {
   "cell_type": "markdown",
   "id": "14989fed",
   "metadata": {},
   "source": [
    "## 3. Determine the Critical Value:\n",
    "### Using the alpha level of 5% (α = 0.05), determine the critical value from the standard normal (Z) distribution table.\n"
   ]
  },
  {
   "cell_type": "code",
   "execution_count": 3,
   "id": "17139f19",
   "metadata": {},
   "outputs": [
    {
     "data": {
      "text/plain": [
       "1.7108820799094275"
      ]
     },
     "execution_count": 3,
     "metadata": {},
     "output_type": "execute_result"
    }
   ],
   "source": [
    "import scipy.stats as stats\n",
    "\n",
    "df = n - 1\n",
    "\n",
    "alpha = 0.05\n",
    "t_critical = stats.t.ppf(1 - alpha, df)\n",
    "t_critical\n"
   ]
  },
  {
   "cell_type": "markdown",
   "id": "deea1edb",
   "metadata": {},
   "source": [
    "#### The critical t-value for a one-tailed test at a 5% significance level (α = 0.05) with 24 degrees of freedom is 1.71.\n",
    "\n",
    "#### Since the computed t-statistic (-38.0) is far less than the critical value (1.71), we fail to reject the null hypothesis. This means there is no statistical evidence to support the claim that the weekly operating costs have increased."
   ]
  },
  {
   "cell_type": "code",
   "execution_count": null,
   "id": "91f7d30c",
   "metadata": {},
   "outputs": [],
   "source": []
  },
  {
   "cell_type": "markdown",
   "id": "9a31b3f6",
   "metadata": {},
   "source": [
    "## 4. Make a Decision:\n",
    "### Compare the test statistic with the critical value to decide whether to reject the null hypothesis.\n"
   ]
  },
  {
   "cell_type": "markdown",
   "id": "81d70a13",
   "metadata": {},
   "source": [
    "### •The Calculated t-statistic = -38.0\n",
    "### •The critical value for α = 0.05(one tailed test)=1.711\n",
    "### •Decision Rule:\n",
    "    ### •If t ≥ 1.711, reject 𝐻0.\n",
    "    ### •If t < 1.711, fail to reject 𝐻0.\n",
    "    "
   ]
  },
  {
   "cell_type": "code",
   "execution_count": 6,
   "id": "373dc638",
   "metadata": {},
   "outputs": [
    {
     "data": {
      "text/plain": [
       "'Fail to reject the null hypothesis: There is no significant evidence that the weekly operating costs have increased.'"
      ]
     },
     "execution_count": 6,
     "metadata": {},
     "output_type": "execute_result"
    }
   ],
   "source": [
    "if t_statistic > t_critical:\n",
    "    decision = \"Reject the null hypothesis: There is significant evidence that the weekly operating costs have increased.\"\n",
    "else:\n",
    "    decision = \"Fail to reject the null hypothesis: There is no significant evidence that the weekly operating costs have increased.\"\n",
    "\n",
    "decision\n"
   ]
  },
  {
   "cell_type": "markdown",
   "id": "0d9bd500",
   "metadata": {},
   "source": [
    "#### Since the t-statistic (-38.0) is much lower than the critical t-value (1.71), we fail to reject the null hypothesis.\n",
    "\n",
    "#### This means there is no significant evidence to support the claim that the weekly operating costs have increased."
   ]
  },
  {
   "cell_type": "code",
   "execution_count": null,
   "id": "4201bf17",
   "metadata": {},
   "outputs": [],
   "source": []
  },
  {
   "cell_type": "markdown",
   "id": "2bbe4ea1",
   "metadata": {},
   "source": [
    "## 5. Conclusion:\n",
    "### Based on the decision in step 4, conclude whether there is strong evidence to support the restaurant owners' claim that the weekly operating costs are higher than the model suggests.\n"
   ]
  },
  {
   "cell_type": "markdown",
   "id": "f8b2191a",
   "metadata": {},
   "source": [
    "#### Based on the hypothesis test, we fail to reject the null hypothesis. The test statistic 𝑡=−38.0 is significantly lower than the critical value 𝑡=1.711 indicating that the observed weekly operating costs   3,050 are actually much lower than the predicted cost  4,000 according to the given cost model.\n",
    "\n",
    "### Implication:\n",
    "#### There is no strong statistical evidence to support the restaurant owners' claim that weekly operating costs have increased. Instead, the data suggests that the actual costs are significantly lower than what the model predicts. This contradicts the concerns of the restaurant owners and suggests that further investigation may be needed to understand why their perceptions differ from the data."
   ]
  },
  {
   "cell_type": "code",
   "execution_count": null,
   "id": "b1de84e0",
   "metadata": {},
   "outputs": [],
   "source": []
  }
 ],
 "metadata": {
  "kernelspec": {
   "display_name": "Python 3 (ipykernel)",
   "language": "python",
   "name": "python3"
  },
  "language_info": {
   "codemirror_mode": {
    "name": "ipython",
    "version": 3
   },
   "file_extension": ".py",
   "mimetype": "text/x-python",
   "name": "python",
   "nbconvert_exporter": "python",
   "pygments_lexer": "ipython3",
   "version": "3.11.5"
  }
 },
 "nbformat": 4,
 "nbformat_minor": 5
}
