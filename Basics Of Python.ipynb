{
 "cells": [
  {
   "cell_type": "code",
   "execution_count": 1,
   "id": "aaab91e3",
   "metadata": {},
   "outputs": [
    {
     "name": "stdout",
     "output_type": "stream",
     "text": [
      "Enter a number:7\n",
      "7 is a prime number.\n"
     ]
    }
   ],
   "source": [
    "def is_prime(num):\n",
    "    if num <= 1:\n",
    "        return False\n",
    "    for i in range(2,num):\n",
    "        if num % i == 0:\n",
    "            return False\n",
    "    return True\n",
    "\n",
    "number=int(input('Enter a number:'))\n",
    "\n",
    "if is_prime(number):\n",
    "    print(f'{number} is a prime number.')\n",
    "else:\n",
    "    print(f'{number} is not a prime number')"
   ]
  },
  {
   "cell_type": "code",
   "execution_count": 3,
   "id": "c144161e",
   "metadata": {},
   "outputs": [
    {
     "name": "stdout",
     "output_type": "stream",
     "text": [
      "What is the product of 4 and 2?9\n",
      "Incorrect.The correct is 8.\n"
     ]
    }
   ],
   "source": [
    "import random\n",
    "\n",
    "num1=random.randint(1,10)\n",
    "num2=random.randint(1,10)\n",
    "\n",
    "user_answer=int(input(f'What is the product of {num1} and {num2}?'))\n",
    "\n",
    "correct_answer=num1*num2\n",
    "\n",
    "if user_answer == correct_answer:\n",
    "    print('Correct! Well Done.')\n",
    "else:\n",
    "    print(f'Incorrect.The correct is {correct_answer}.')"
   ]
  },
  {
   "cell_type": "code",
   "execution_count": 3,
   "id": "f239f65d",
   "metadata": {},
   "outputs": [
    {
     "name": "stdout",
     "output_type": "stream",
     "text": [
      "Even Number: 10000\n",
      "Odd Number: 10201\n",
      "Even Number: 10404\n",
      "Odd Number: 10609\n",
      "Even Number: 10816\n",
      "Odd Number: 11025\n",
      "Even Number: 11236\n",
      "Odd Number: 11449\n",
      "Even Number: 11664\n",
      "Odd Number: 11881\n",
      "Even Number: 12100\n",
      "Odd Number: 12321\n",
      "Even Number: 12544\n",
      "Odd Number: 12769\n",
      "Even Number: 12996\n",
      "Odd Number: 13225\n",
      "Even Number: 13456\n",
      "Odd Number: 13689\n",
      "Even Number: 13924\n",
      "Odd Number: 14161\n",
      "Even Number: 14400\n",
      "Odd Number: 14641\n",
      "Even Number: 14884\n",
      "Odd Number: 15129\n",
      "Even Number: 15376\n",
      "Odd Number: 15625\n",
      "Even Number: 15876\n",
      "Odd Number: 16129\n",
      "Even Number: 16384\n",
      "Odd Number: 16641\n",
      "Even Number: 16900\n",
      "Odd Number: 17161\n",
      "Even Number: 17424\n",
      "Odd Number: 17689\n",
      "Even Number: 17956\n",
      "Odd Number: 18225\n",
      "Even Number: 18496\n",
      "Odd Number: 18769\n",
      "Even Number: 19044\n",
      "Odd Number: 19321\n",
      "Even Number: 19600\n",
      "Odd Number: 19881\n",
      "Even Number: 20164\n",
      "Odd Number: 20449\n",
      "Even Number: 20736\n",
      "Odd Number: 21025\n",
      "Even Number: 21316\n",
      "Odd Number: 21609\n",
      "Even Number: 21904\n",
      "Odd Number: 22201\n",
      "Even Number: 22500\n",
      "Odd Number: 22801\n",
      "Even Number: 23104\n",
      "Odd Number: 23409\n",
      "Even Number: 23716\n",
      "Odd Number: 24025\n",
      "Even Number: 24336\n",
      "Odd Number: 24649\n",
      "Even Number: 24964\n",
      "Odd Number: 25281\n",
      "Even Number: 25600\n",
      "Odd Number: 25921\n",
      "Even Number: 26244\n",
      "Odd Number: 26569\n",
      "Even Number: 26896\n",
      "Odd Number: 27225\n",
      "Even Number: 27556\n",
      "Odd Number: 27889\n",
      "Even Number: 28224\n",
      "Odd Number: 28561\n",
      "Even Number: 28900\n",
      "Odd Number: 29241\n",
      "Even Number: 29584\n",
      "Odd Number: 29929\n",
      "Even Number: 30276\n",
      "Odd Number: 30625\n",
      "Even Number: 30976\n",
      "Odd Number: 31329\n",
      "Even Number: 31684\n",
      "Odd Number: 32041\n",
      "Even Number: 32400\n",
      "Odd Number: 32761\n",
      "Even Number: 33124\n",
      "Odd Number: 33489\n",
      "Even Number: 33856\n",
      "Odd Number: 34225\n",
      "Even Number: 34596\n",
      "Odd Number: 34969\n",
      "Even Number: 35344\n",
      "Odd Number: 35721\n",
      "Even Number: 36100\n",
      "Odd Number: 36481\n",
      "Even Number: 36864\n",
      "Odd Number: 37249\n",
      "Even Number: 37636\n",
      "Odd Number: 38025\n",
      "Even Number: 38416\n",
      "Odd Number: 38809\n",
      "Even Number: 39204\n",
      "Odd Number: 39601\n",
      "Even Number: 40000\n"
     ]
    }
   ],
   "source": [
    "for i in range(100, 201):\n",
    "    if i % 2 == 0:\n",
    "        print('Even Number:', i**2)\n",
    "    else:\n",
    "        print('Odd Number:', i**2)"
   ]
  },
  {
   "cell_type": "code",
   "execution_count": 6,
   "id": "572e73e0",
   "metadata": {},
   "outputs": [
    {
     "name": "stdout",
     "output_type": "stream",
     "text": [
      "'This': 2\n",
      "'is': 1\n",
      "'a': 1\n",
      "'sample': 1\n",
      "'text': 2\n",
      "'will': 1\n",
      "'be': 1\n",
      "'used': 1\n",
      "'to': 1\n",
      "'demonstrate': 1\n",
      "'the': 1\n",
      "'word': 1\n",
      "'counter': 1\n"
     ]
    }
   ],
   "source": [
    "from collections import Counter\n",
    "import string\n",
    "\n",
    "def count_words(text):\n",
    "    text = text.translate(str.maketrans('', '', string.punctuation))\n",
    "    words = text.split()\n",
    "    word_count = Counter(words)\n",
    "    \n",
    "    for word, count in word_count.items():\n",
    "        print(f\"'{word}': {count}\")\n",
    "        \n",
    "input_text = \"This is a sample text. This text will be used to demonstrate the word counter.\"\n",
    "count_words(input_text)"
   ]
  },
  {
   "cell_type": "code",
   "execution_count": 9,
   "id": "f21009b3",
   "metadata": {},
   "outputs": [
    {
     "name": "stdout",
     "output_type": "stream",
     "text": [
      "True\n"
     ]
    }
   ],
   "source": [
    "def is_palindrome(s):\n",
    "    cleaned_s = ''.join(c.lower() for c in s if c.isalnum())\n",
    "    return cleaned_s == cleaned_s[::-1]\n",
    "\n",
    "print(is_palindrome(\"racecar\"))\n"
   ]
  },
  {
   "cell_type": "code",
   "execution_count": null,
   "id": "f2eaf5dd",
   "metadata": {},
   "outputs": [],
   "source": []
  }
 ],
 "metadata": {
  "kernelspec": {
   "display_name": "Python 3 (ipykernel)",
   "language": "python",
   "name": "python3"
  },
  "language_info": {
   "codemirror_mode": {
    "name": "ipython",
    "version": 3
   },
   "file_extension": ".py",
   "mimetype": "text/x-python",
   "name": "python",
   "nbconvert_exporter": "python",
   "pygments_lexer": "ipython3",
   "version": "3.11.5"
  }
 },
 "nbformat": 4,
 "nbformat_minor": 5
}
