{
 "cells": [
  {
   "cell_type": "markdown",
   "id": "23d41108",
   "metadata": {},
   "source": [
    "# CHI-SQUARE TEST"
   ]
  },
  {
   "cell_type": "markdown",
   "id": "7ed2f1ab",
   "metadata": {},
   "source": [
    "## Association between Device Type and Customer Satisfaction\n",
    "### Background:\n",
    "#### Mizzare Corporation has collected data on customer satisfaction levels for two types of smart home devices: Smart Thermostats and Smart Lights. They want to determine if there's a significant association between the type of device purchased and the customer's satisfaction level.\n",
    "### Data Provided:\n",
    "#### The data is summarized in a contingency table showing the counts of customers in each satisfaction level for both types of devices:\n"
   ]
  },
  {
   "cell_type": "markdown",
   "id": "1be45896",
   "metadata": {},
   "source": [
    "### Satisfaction  Smart Thermostat  Smart Light  Total\n",
    "### Very Satisfied 50 70 120\n",
    "### Satisfied 80 100 180\n",
    "### Neutral 60 90 150\n",
    "### Unsatisfied 30 50\t80\n",
    "### Very Unsatisfied 20 50\t70\n",
    "### Total 240 360 600"
   ]
  },
  {
   "cell_type": "markdown",
   "id": "85fb7d7e",
   "metadata": {},
   "source": [
    "### Objective:\n",
    "#### To use the Chi-Square test for independence to determine if there's a significant association between the type of smart home device purchased (Smart Thermostats vs. Smart Lights) and the customer satisfaction level.\n"
   ]
  },
  {
   "cell_type": "markdown",
   "id": "082ea285",
   "metadata": {},
   "source": [
    "### Assignment Tasks:\n",
    "### 1. State the Hypotheses:\n",
    "### Null Hypothesis (H₀):\n",
    "#### There is no association between the type of smart home device (Smart Thermostat vs. Smart Light) and customer satisfaction level. In other words customer satisfaction is independent of the device type.\n",
    "\n",
    "### Alternative Hypothesis (H₁):\n",
    "#### There is an association between the type of smart home device and customer satisfaction level meaning customer satisfaction depends on the device type.\n"
   ]
  },
  {
   "cell_type": "code",
   "execution_count": null,
   "id": "4dbb9f63",
   "metadata": {},
   "outputs": [],
   "source": []
  },
  {
   "cell_type": "markdown",
   "id": "f799a4e8",
   "metadata": {},
   "source": [
    "### 2. Compute the Chi-Square Statistic:\n",
    "\n",
    "# χ2=∑(Oij−Eij)^2 / Eij\n",
    "\n",
    "## where:\n",
    "\n",
    "### Oij= observed frequency\n",
    "### Eij= expected frequency\n",
    "\n"
   ]
  },
  {
   "cell_type": "code",
   "execution_count": 1,
   "id": "aaa67778",
   "metadata": {},
   "outputs": [
    {
     "data": {
      "text/plain": [
       "(5.638227513227513, 4, 0.22784371130697179)"
      ]
     },
     "execution_count": 1,
     "metadata": {},
     "output_type": "execute_result"
    }
   ],
   "source": [
    "import numpy as np\n",
    "import scipy.stats as stats\n",
    "\n",
    "observed = np.array([[50, 70],\n",
    "                     [80, 100],\n",
    "                     [60, 90],\n",
    "                     [30, 50],\n",
    "                     [20, 50]])\n",
    "\n",
    "row_totals = observed.sum(axis=1, keepdims=True)\n",
    "col_totals = observed.sum(axis=0, keepdims=True)\n",
    "total = observed.sum()\n",
    "\n",
    "expected = (row_totals @ col_totals) / total\n",
    "\n",
    "chi_square_stat = ((observed - expected) ** 2 / expected).sum()\n",
    "\n",
    "df = (observed.shape[0] - 1) * (observed.shape[1] - 1)\n",
    "\n",
    "p_value = 1 - stats.chi2.cdf(chi_square_stat, df)\n",
    "\n",
    "chi_square_stat, df, p_value\n"
   ]
  },
  {
   "cell_type": "markdown",
   "id": "119c6110",
   "metadata": {},
   "source": [
    "### 3. Determine the Critical Value:\n",
    "#### Using the significance level (alpha) of 0.05 and the degrees of freedom (which is the number of categories minus 1)"
   ]
  },
  {
   "cell_type": "code",
   "execution_count": 3,
   "id": "b39e0493",
   "metadata": {},
   "outputs": [
    {
     "data": {
      "text/plain": [
       "9.487729036781154"
      ]
     },
     "execution_count": 3,
     "metadata": {},
     "output_type": "execute_result"
    }
   ],
   "source": [
    "import scipy.stats as stats\n",
    "alpha = 0.05\n",
    "\n",
    "df = 4\n",
    "\n",
    "critical_value = stats.chi2.ppf(1 - alpha, df)\n",
    "critical_value"
   ]
  },
  {
   "cell_type": "code",
   "execution_count": null,
   "id": "75a6a134",
   "metadata": {},
   "outputs": [],
   "source": []
  },
  {
   "cell_type": "markdown",
   "id": "6dd02124",
   "metadata": {},
   "source": [
    "### 4. Make a Decision:\n",
    "#### Compare the Chi-Square statistic with the critical value to decide whether to reject the null hypothesis.\n"
   ]
  },
  {
   "cell_type": "code",
   "execution_count": 4,
   "id": "786a4727",
   "metadata": {},
   "outputs": [
    {
     "data": {
      "text/plain": [
       "'Fail to reject the null hypothesis: There is no significant association between device type and customer satisfaction.'"
      ]
     },
     "execution_count": 4,
     "metadata": {},
     "output_type": "execute_result"
    }
   ],
   "source": [
    "if chi_square_stat > critical_value:\n",
    "    decision = \"Reject the null hypothesis: There is a significant association between device type and customer satisfaction.\"\n",
    "else:\n",
    "    decision = \"Fail to reject the null hypothesis: There is no significant association between device type and customer satisfaction.\"\n",
    "\n",
    "decision\n"
   ]
  },
  {
   "cell_type": "markdown",
   "id": "6ee6e06e",
   "metadata": {},
   "source": [
    "#### Chi-Square Statistic (χ²): 5.64\n",
    "#### Critical Value: 9.49\n",
    "#### Decision Rule:\n",
    "#### If χ² ≥ 9.49, reject the null hypothesis (H₀).\n",
    "#### If χ² < 9.49, fail to reject the null hypothesis (H₀).\n",
    "#### Since 5.64 < 9.49, we fail to reject the null hypothesis.\n",
    "\n",
    "### Conclusion:\n",
    "#### There is no statistically significant association between the type of smart home device (Smart Thermostat vs. Smart Light) and customer satisfaction level at the 0.05 significance level. This means that satisfaction levels appear to be independent of the device type."
   ]
  },
  {
   "cell_type": "code",
   "execution_count": null,
   "id": "ad96cff0",
   "metadata": {},
   "outputs": [],
   "source": []
  }
 ],
 "metadata": {
  "kernelspec": {
   "display_name": "Python 3 (ipykernel)",
   "language": "python",
   "name": "python3"
  },
  "language_info": {
   "codemirror_mode": {
    "name": "ipython",
    "version": 3
   },
   "file_extension": ".py",
   "mimetype": "text/x-python",
   "name": "python",
   "nbconvert_exporter": "python",
   "pygments_lexer": "ipython3",
   "version": "3.11.5"
  }
 },
 "nbformat": 4,
 "nbformat_minor": 5
}
